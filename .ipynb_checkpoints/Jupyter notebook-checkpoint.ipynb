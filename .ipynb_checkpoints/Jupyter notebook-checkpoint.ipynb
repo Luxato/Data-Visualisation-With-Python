{
 "cells": [
  {
   "cell_type": "code",
   "execution_count": 80,
   "metadata": {},
   "outputs": [
    {
     "data": {
      "image/png": "[encoded data removed]",
      "text/plain": [
       "<Figure size 432x288 with 1 Axes>"
      ]
     },
     "metadata": {},
     "output_type": "display_data"
    }
   ],
   "source": [
    "#Bar chart\n",
    "import matplotlib.pyplot as plt\n",
    "from matplotlib import cm\n",
    "from mpl_toolkits.mplot3d import Axes3D\n",
    "import numpy as np\n",
    "from sklearn import datasets\n",
    "\n",
    "bar_width = 0.25\n",
    "num_bins = 5\n",
    "\n",
    "bar1 = np.random.randint(0, 100, num_bins)\n",
    "bar2 = np.random.randint(0, 100, num_bins)\n",
    "\n",
    "indices = np.arange(num_bins)\n",
    "\n",
    "plt.bar(indices, bar1, bar_width, color = 'black', label = 'Prof 1')\n",
    "plt.bar(indices + bar_width, bar2, bar_width, color = 'pink', label = 'Prof 2')\n",
    "\n",
    "#Replace numerical indices with letters\n",
    "plt.xlabel('Final grade')\n",
    "plt.ylabel('Frequncy')\n",
    "\n",
    "plt.xticks(indices + bar_width, ('A', 'B', 'C', 'D', 'F'))\n",
    "\n",
    "#Legend\n",
    "plt.legend()\n",
    "\n",
    "plt.show()"
   ]
  },
  {
   "cell_type": "code",
   "execution_count": null,
   "metadata": {},
   "outputs": [],
   "source": []
  }
 ],
 "metadata": {
  "kernelspec": {
   "display_name": "Python 3",
   "language": "python",
   "name": "python3"
  },
  "language_info": {
   "codemirror_mode": {
    "name": "ipython",
    "version": 3
   },
   "file_extension": ".py",
   "mimetype": "text/x-python",
   "name": "python",
   "nbconvert_exporter": "python",
   "pygments_lexer": "ipython3",
   "version": "3.6.5"
  }
 },
 "nbformat": 4,
 "nbformat_minor": 2
}
